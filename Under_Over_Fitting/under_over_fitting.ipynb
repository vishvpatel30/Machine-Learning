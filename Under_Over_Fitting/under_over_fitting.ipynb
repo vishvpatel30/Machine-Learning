{
  "nbformat": 4,
  "nbformat_minor": 0,
  "metadata": {
    "kernelspec": {
      "display_name": "Python 3",
      "language": "python",
      "name": "python3"
    },
    "language_info": {
      "codemirror_mode": {
        "name": "ipython",
        "version": 3
      },
      "file_extension": ".py",
      "mimetype": "text/x-python",
      "name": "python",
      "nbconvert_exporter": "python",
      "pygments_lexer": "ipython3",
      "version": "3.7.4"
    },
    "colab": {
      "name": "17BCP039_under_over_fitting.ipynb",
      "provenance": [],
      "toc_visible": true
    }
  },
  "cells": [
    {
      "cell_type": "markdown",
      "metadata": {
        "id": "iJ63npXJd4OK",
        "colab_type": "text"
      },
      "source": [
        "# Import necessory libraries"
      ]
    },
    {
      "cell_type": "code",
      "metadata": {
        "id": "Ua92bvnjd4OQ",
        "colab_type": "code",
        "colab": {}
      },
      "source": [
        "import numpy as np \n",
        "import matplotlib.pyplot as plt \n",
        "%matplotlib inline\n",
        "import matplotlib as mpl"
      ],
      "execution_count": 1,
      "outputs": []
    },
    {
      "cell_type": "markdown",
      "metadata": {
        "id": "keg8T0wud4Ol",
        "colab_type": "text"
      },
      "source": [
        "# Data Generation"
      ]
    },
    {
      "cell_type": "markdown",
      "metadata": {
        "id": "67IajCF-d4Oo",
        "colab_type": "text"
      },
      "source": [
        "#### y =  15 * sin( x ) + 3"
      ]
    },
    {
      "cell_type": "markdown",
      "metadata": {
        "id": "BbiLVmTbd4Or",
        "colab_type": "text"
      },
      "source": [
        "x = 100 values in the range [0,11)\n",
        "\n"
      ]
    },
    {
      "cell_type": "code",
      "metadata": {
        "id": "8rOxFZPEd4Ou",
        "colab_type": "code",
        "colab": {
          "base_uri": "https://localhost:8080/",
          "height": 269
        },
        "outputId": "7bca262a-0804-44f0-9abd-ff0d299d5dcc"
      },
      "source": [
        "np.random.seed(seed=9)\n",
        "\n",
        "# no. of data points\n",
        "n_points = 100\n",
        "\n",
        "# data point generation\n",
        "x = np.random.normal(0, 2, n_points) ## normal distribution\n",
        "# sorting points\n",
        "x = np.sort(x)\n",
        "\n",
        "y = 15*np.sin(x) + 3 \n",
        "\n",
        "#visualize data\n",
        "\n",
        "plt.scatter(x, y)\n",
        "plt.xticks([])\n",
        "plt.yticks([])\n",
        "plt.ylim([-20, 20])"
      ],
      "execution_count": 2,
      "outputs": [
        {
          "output_type": "execute_result",
          "data": {
            "text/plain": [
              "(-20.0, 20.0)"
            ]
          },
          "metadata": {
            "tags": []
          },
          "execution_count": 2
        },
        {
          "output_type": "display_data",
          "data": {
            "image/png": "[encoded data removed]",
            "text/plain": [
              "<Figure size 432x288 with 1 Axes>"
            ]
          },
          "metadata": {
            "tags": []
          }
        }
      ]
    },
    {
      "cell_type": "code",
      "metadata": {
        "id": "IPAyH6kud4PD",
        "colab_type": "code",
        "colab": {}
      },
      "source": [
        "from sklearn.model_selection import train_test_split\n",
        "\n",
        "x_train, x_test, y_train, y_test = train_test_split(x, y, test_size=0.3, random_state=42)"
      ],
      "execution_count": 3,
      "outputs": []
    },
    {
      "cell_type": "markdown",
      "metadata": {
        "id": "HV0UG17Ad4PS",
        "colab_type": "text"
      },
      "source": [
        "# Underfit Model"
      ]
    },
    {
      "cell_type": "markdown",
      "metadata": {
        "id": "P6DI9L_md4PV",
        "colab_type": "text"
      },
      "source": [
        "## Theta values"
      ]
    },
    {
      "cell_type": "code",
      "metadata": {
        "id": "NnCW90Hqd4PY",
        "colab_type": "code",
        "colab": {
          "base_uri": "https://localhost:8080/",
          "height": 34
        },
        "outputId": "3ba9da5c-de98-4677-d9a2-312bf66cdd2c"
      },
      "source": [
        "# polynomial of degree 1 was used which is a linear model using polyfit function\n",
        "\n",
        "underfit = np.polyfit(x_train, y_train, 1)\n",
        "underfit"
      ],
      "execution_count": 4,
      "outputs": [
        {
          "output_type": "execute_result",
          "data": {
            "text/plain": [
              "array([0.68813861, 2.60412531])"
            ]
          },
          "metadata": {
            "tags": []
          },
          "execution_count": 4
        }
      ]
    },
    {
      "cell_type": "code",
      "metadata": {
        "id": "DRhxDs3Fd4Po",
        "colab_type": "code",
        "colab": {
          "base_uri": "https://localhost:8080/",
          "height": 269
        },
        "outputId": "964f3ae6-e376-4358-c323-930f88ba061b"
      },
      "source": [
        "# visualize model\n",
        "plt.scatter(x_train, y_train, label='Data')\n",
        "plt.plot(x_train, np.polyval(underfit, x_train), label='Underfit model',color='orange')\n",
        "\n",
        "plt.legend(loc=[0.17, 0.1])\n",
        "plt.xticks([])\n",
        "plt.yticks([])\n",
        "plt.ylim([-20, 20])"
      ],
      "execution_count": 5,
      "outputs": [
        {
          "output_type": "execute_result",
          "data": {
            "text/plain": [
              "(-20.0, 20.0)"
            ]
          },
          "metadata": {
            "tags": []
          },
          "execution_count": 5
        },
        {
          "output_type": "display_data",
          "data": {
            "image/png": "[encoded data removed]",
            "text/plain": [
              "<Figure size 432x288 with 1 Axes>"
            ]
          },
          "metadata": {
            "tags": []
          }
        }
      ]
    },
    {
      "cell_type": "markdown",
      "metadata": {
        "id": "rrW30YmWd4P4",
        "colab_type": "text"
      },
      "source": [
        "# Overfit Model"
      ]
    },
    {
      "cell_type": "markdown",
      "metadata": {
        "id": "ZiKyZUDGd4P7",
        "colab_type": "text"
      },
      "source": [
        "## Theta Values"
      ]
    },
    {
      "cell_type": "code",
      "metadata": {
        "id": "m80q-8LJd4P-",
        "colab_type": "code",
        "colab": {
          "base_uri": "https://localhost:8080/",
          "height": 84
        },
        "outputId": "f56289b6-32da-42e3-8600-9dbf042df1a4"
      },
      "source": [
        "# polynomial of degree 15 was used to fit training data using polyfit function\n",
        "\n",
        "overfit = np.polyfit(x_train, y_train, 15)\n",
        "overfit"
      ],
      "execution_count": 6,
      "outputs": [
        {
          "output_type": "execute_result",
          "data": {
            "text/plain": [
              "array([-7.93116218e-12, -7.37589630e-13,  2.27529625e-09,  5.33181297e-11,\n",
              "       -3.73101048e-07, -1.45076602e-09,  4.13059545e-05,  1.86127924e-08,\n",
              "       -2.97600603e-03, -1.14217683e-07,  1.24999426e-01,  2.95982388e-07,\n",
              "       -2.49999923e+00, -2.46485042e-07,  1.49999997e+01,  3.00000003e+00])"
            ]
          },
          "metadata": {
            "tags": []
          },
          "execution_count": 6
        }
      ]
    },
    {
      "cell_type": "code",
      "metadata": {
        "id": "9K2GSep9d4QP",
        "colab_type": "code",
        "colab": {
          "base_uri": "https://localhost:8080/",
          "height": 269
        },
        "outputId": "aaa3c5cf-2d38-4478-e1be-1e9b87f36a62"
      },
      "source": [
        "# visualize model\n",
        "plt.scatter(x_train, y_train, label='Data')\n",
        "curve_x = np.linspace(-12,18,333)\n",
        "plt.plot(curve_x, np.polyval(overfit, curve_x),label='Overfit model', color='orange')\n",
        "\n",
        "plt.legend(loc=[0.17, 0.1])\n",
        "plt.xticks([])\n",
        "plt.yticks([])\n",
        "plt.ylim([-20, 20])"
      ],
      "execution_count": 7,
      "outputs": [
        {
          "output_type": "execute_result",
          "data": {
            "text/plain": [
              "(-20.0, 20.0)"
            ]
          },
          "metadata": {
            "tags": []
          },
          "execution_count": 7
        },
        {
          "output_type": "display_data",
          "data": {
            "image/png": "[encoded data removed]",
            "text/plain": [
              "<Figure size 432x288 with 1 Axes>"
            ]
          },
          "metadata": {
            "tags": []
          }
        }
      ]
    },
    {
      "cell_type": "markdown",
      "metadata": {
        "id": "TsQKq9K3d4Qd",
        "colab_type": "text"
      },
      "source": [
        "# Regularization using Ridge "
      ]
    },
    {
      "cell_type": "code",
      "metadata": {
        "id": "-3CfqzEOd4Qg",
        "colab_type": "code",
        "colab": {
          "base_uri": "https://localhost:8080/",
          "height": 34
        },
        "outputId": "063294a7-1e3a-401f-8c1b-5fa37c1709be"
      },
      "source": [
        "# feature generation using PolynomialFeatures for polynomial of degree 15\n",
        "\n",
        "from sklearn.preprocessing import PolynomialFeatures\n",
        "\n",
        "poly = PolynomialFeatures(degree=15, include_bias=False)\n",
        "poly_features = poly.fit_transform(x_train.reshape(-1, 1))\n",
        "poly_features.shape"
      ],
      "execution_count": 8,
      "outputs": [
        {
          "output_type": "execute_result",
          "data": {
            "text/plain": [
              "(70, 15)"
            ]
          },
          "metadata": {
            "tags": []
          },
          "execution_count": 8
        }
      ]
    },
    {
      "cell_type": "markdown",
      "metadata": {
        "id": "hmt4UQnKd4Qv",
        "colab_type": "text"
      },
      "source": [
        "## Using Ridge regression"
      ]
    },
    {
      "cell_type": "code",
      "metadata": {
        "id": "_6-eIa9hd4Qx",
        "colab_type": "code",
        "colab": {
          "base_uri": "https://localhost:8080/",
          "height": 50
        },
        "outputId": "f6c06a6f-81e7-4e2e-fea9-c6278addf7fe"
      },
      "source": [
        "from sklearn.linear_model import Ridge\n",
        "\n",
        "ridge = Ridge(alpha=0.0000001, fit_intercept=True, normalize=True,copy_X=True, max_iter=None, tol=0.001,random_state=1)\n",
        "\n",
        "# fitting training data\n",
        "ridge.fit(poly_features, y_train)"
      ],
      "execution_count": 9,
      "outputs": [
        {
          "output_type": "execute_result",
          "data": {
            "text/plain": [
              "Ridge(alpha=1e-07, copy_X=True, fit_intercept=True, max_iter=None,\n",
              "      normalize=True, random_state=1, solver='auto', tol=0.001)"
            ]
          },
          "metadata": {
            "tags": []
          },
          "execution_count": 9
        }
      ]
    },
    {
      "cell_type": "markdown",
      "metadata": {
        "id": "KECZia1zd4RA",
        "colab_type": "text"
      },
      "source": [
        "## Ridge coefficients"
      ]
    },
    {
      "cell_type": "code",
      "metadata": {
        "id": "UPKjGu2Zd4RD",
        "colab_type": "code",
        "colab": {
          "base_uri": "https://localhost:8080/",
          "height": 84
        },
        "outputId": "89c8fd85-0e13-4ab5-e287-0d6d64fab9c3"
      },
      "source": [
        "ridge.coef_"
      ],
      "execution_count": 10,
      "outputs": [
        {
          "output_type": "execute_result",
          "data": {
            "text/plain": [
              "array([ 1.49654591e+01, -4.93526935e-03, -2.46108334e+00,  2.04239463e-03,\n",
              "        1.13151413e-01, -1.60564476e-04, -1.55034884e-03, -2.70691283e-06,\n",
              "       -3.14759986e-05,  3.67911432e-07,  7.03098426e-07,  6.26218908e-09,\n",
              "        2.85324579e-08, -4.30281810e-10, -7.14720117e-10])"
            ]
          },
          "metadata": {
            "tags": []
          },
          "execution_count": 10
        }
      ]
    },
    {
      "cell_type": "markdown",
      "metadata": {
        "id": "-of5dlIZd4RU",
        "colab_type": "text"
      },
      "source": [
        "## Predict for Ridge "
      ]
    },
    {
      "cell_type": "code",
      "metadata": {
        "id": "A5j52Mfmd4RX",
        "colab_type": "code",
        "colab": {}
      },
      "source": [
        "# prediction for test data\n",
        "poly_features_curve = poly.fit_transform(curve_x.reshape(-1, 1))\n",
        "y_pred = ridge.predict(poly_features_curve)"
      ],
      "execution_count": 11,
      "outputs": []
    },
    {
      "cell_type": "code",
      "metadata": {
        "id": "a_RedId0d4Rl",
        "colab_type": "code",
        "colab": {
          "base_uri": "https://localhost:8080/",
          "height": 269
        },
        "outputId": "35116cca-9b79-4184-e436-a45963ba08a4"
      },
      "source": [
        "# visualize model\n",
        "plt.scatter(x_train, y_train, label='Data')\n",
        "\n",
        "plt.plot(curve_x, np.polyval(overfit, curve_x),label='Overfit model', color='orange')\n",
        "\n",
        "plt.plot(curve_x, y_pred,label='Regularized model',color='red', linestyle='--')\n",
        "loc=[0.17, 0.1]\n",
        "plt.legend()\n",
        "plt.xticks([])\n",
        "plt.yticks([])\n",
        "plt.ylim([-20, 20])"
      ],
      "execution_count": 12,
      "outputs": [
        {
          "output_type": "execute_result",
          "data": {
            "text/plain": [
              "(-20.0, 20.0)"
            ]
          },
          "metadata": {
            "tags": []
          },
          "execution_count": 12
        },
        {
          "output_type": "display_data",
          "data": {
            "image/png": "[encoded data removed]",
            "text/plain": [
              "<Figure size 432x288 with 1 Axes>"
            ]
          },
          "metadata": {
            "tags": []
          }
        }
      ]
    },
    {
      "cell_type": "markdown",
      "metadata": {
        "id": "2cy0adRGd4Rx",
        "colab_type": "text"
      },
      "source": [
        "# Performance"
      ]
    },
    {
      "cell_type": "markdown",
      "metadata": {
        "id": "H_qHQeUyd4Rz",
        "colab_type": "text"
      },
      "source": [
        "## Root Mean Square Error Calculation Function"
      ]
    },
    {
      "cell_type": "code",
      "metadata": {
        "id": "TpbTPWUld4R1",
        "colab_type": "code",
        "colab": {}
      },
      "source": [
        "RMSE = lambda y, y_pred: np.sqrt(np.mean((y-y_pred)**2))"
      ],
      "execution_count": 13,
      "outputs": []
    },
    {
      "cell_type": "markdown",
      "metadata": {
        "id": "Qml0bcnPd4SF",
        "colab_type": "text"
      },
      "source": [
        "# Underfit Model"
      ]
    },
    {
      "cell_type": "markdown",
      "metadata": {
        "id": "m3vWVte0d4SH",
        "colab_type": "text"
      },
      "source": [
        "## Training Error"
      ]
    },
    {
      "cell_type": "code",
      "metadata": {
        "id": "ZoRqrl6Vd4SJ",
        "colab_type": "code",
        "colab": {
          "base_uri": "https://localhost:8080/",
          "height": 34
        },
        "outputId": "ed465eca-ba5b-4ec8-81b3-b5d4082913d1"
      },
      "source": [
        "y_train_pred = np.polyval(underfit, x_train)\n",
        "RMSE(y_train, y_train_pred)"
      ],
      "execution_count": 14,
      "outputs": [
        {
          "output_type": "execute_result",
          "data": {
            "text/plain": [
              "10.04090916774393"
            ]
          },
          "metadata": {
            "tags": []
          },
          "execution_count": 14
        }
      ]
    },
    {
      "cell_type": "markdown",
      "metadata": {
        "id": "kz93R2Uud4SW",
        "colab_type": "text"
      },
      "source": [
        "## Testing Error"
      ]
    },
    {
      "cell_type": "code",
      "metadata": {
        "id": "lCl1Q9zLd4SY",
        "colab_type": "code",
        "colab": {
          "base_uri": "https://localhost:8080/",
          "height": 34
        },
        "outputId": "178560ac-85fc-4511-db70-a94b4d0fe8b7"
      },
      "source": [
        "y_test_pred = np.polyval(underfit, x_test)\n",
        "RMSE(y_test, y_test_pred)"
      ],
      "execution_count": 15,
      "outputs": [
        {
          "output_type": "execute_result",
          "data": {
            "text/plain": [
              "10.474762090230623"
            ]
          },
          "metadata": {
            "tags": []
          },
          "execution_count": 15
        }
      ]
    },
    {
      "cell_type": "markdown",
      "metadata": {
        "id": "g2ddYqZZd4Sn",
        "colab_type": "text"
      },
      "source": [
        "# Overfit Model"
      ]
    },
    {
      "cell_type": "markdown",
      "metadata": {
        "id": "KLSnPbZ4d4Sp",
        "colab_type": "text"
      },
      "source": [
        "## Training Error"
      ]
    },
    {
      "cell_type": "code",
      "metadata": {
        "id": "RgPzv4GNd4Sr",
        "colab_type": "code",
        "colab": {
          "base_uri": "https://localhost:8080/",
          "height": 34
        },
        "outputId": "2b922ce8-a97e-4be4-acdc-599739275947"
      },
      "source": [
        "y_train_pred = np.polyval(overfit, x_train)\n",
        "RMSE(y_train, y_train_pred)"
      ],
      "execution_count": 16,
      "outputs": [
        {
          "output_type": "execute_result",
          "data": {
            "text/plain": [
              "7.783592294736584e-08"
            ]
          },
          "metadata": {
            "tags": []
          },
          "execution_count": 16
        }
      ]
    },
    {
      "cell_type": "markdown",
      "metadata": {
        "id": "dIq3aG1md4S2",
        "colab_type": "text"
      },
      "source": [
        "## Test Error"
      ]
    },
    {
      "cell_type": "code",
      "metadata": {
        "id": "fSFCDOVGd4S4",
        "colab_type": "code",
        "colab": {
          "base_uri": "https://localhost:8080/",
          "height": 34
        },
        "outputId": "c9da52f3-e9c5-47b2-f131-7d5cf5786992"
      },
      "source": [
        "y_test_pred = np.polyval(overfit, x_test)\n",
        "RMSE(y_test, y_test_pred)"
      ],
      "execution_count": 17,
      "outputs": [
        {
          "output_type": "execute_result",
          "data": {
            "text/plain": [
              "3.182190585239643e-05"
            ]
          },
          "metadata": {
            "tags": []
          },
          "execution_count": 17
        }
      ]
    },
    {
      "cell_type": "markdown",
      "metadata": {
        "id": "BVlVmjFnd4TC",
        "colab_type": "text"
      },
      "source": [
        "# Regularized Model"
      ]
    },
    {
      "cell_type": "markdown",
      "metadata": {
        "id": "1d0De67Fd4TD",
        "colab_type": "text"
      },
      "source": [
        "## Training Error"
      ]
    },
    {
      "cell_type": "code",
      "metadata": {
        "id": "7NdB9W6Fd4TL",
        "colab_type": "code",
        "colab": {
          "base_uri": "https://localhost:8080/",
          "height": 34
        },
        "outputId": "787acf3e-dc29-4d81-86ce-6702a234d8ea"
      },
      "source": [
        "y_train_pred = ridge.predict(poly_features)\n",
        "\n",
        "RMSE(y_train, y_train_pred)"
      ],
      "execution_count": 18,
      "outputs": [
        {
          "output_type": "execute_result",
          "data": {
            "text/plain": [
              "0.009849682518646576"
            ]
          },
          "metadata": {
            "tags": []
          },
          "execution_count": 18
        }
      ]
    },
    {
      "cell_type": "markdown",
      "metadata": {
        "id": "2UkZ5bI0d4TV",
        "colab_type": "text"
      },
      "source": [
        "## Test Error"
      ]
    },
    {
      "cell_type": "code",
      "metadata": {
        "id": "tVndU9Igd4TX",
        "colab_type": "code",
        "colab": {
          "base_uri": "https://localhost:8080/",
          "height": 34
        },
        "outputId": "e0cd9dce-0c50-4b44-cd14-bc6ef541d1d8"
      },
      "source": [
        "poly_features_test = poly.fit_transform(x_test.reshape(-1, 1))\n",
        "\n",
        "y_test_pred = ridge.predict(poly_features_test)\n",
        "\n",
        "RMSE(y_test, y_test_pred)"
      ],
      "execution_count": 19,
      "outputs": [
        {
          "output_type": "execute_result",
          "data": {
            "text/plain": [
              "0.08981219836357121"
            ]
          },
          "metadata": {
            "tags": []
          },
          "execution_count": 19
        }
      ]
    },
    {
      "cell_type": "markdown",
      "metadata": {
        "id": "nwZZq1SHRAYj",
        "colab_type": "text"
      },
      "source": [
        "In all cases Underfit, Overfit and Regularized model the RMSE score in Normal Distribution is less than Uniform Distribution."
      ]
    },
    {
      "cell_type": "markdown",
      "metadata": {
        "id": "-zacA1_5MJ2X",
        "colab_type": "text"
      },
      "source": [
        "## Exercise 2"
      ]
    },
    {
      "cell_type": "markdown",
      "metadata": {
        "id": "yeO04j4oMPfc",
        "colab_type": "text"
      },
      "source": [
        " 1. **np.random.normal(loc=0,scale=1,size=50)**\n",
        "\n",
        "Normal Distribution\n",
        "\n",
        "--> mean(loc) is 0\n",
        "\n",
        "--> standard deviation (scale) is 1\n",
        " \n",
        "--> Array of 50 points"
      ]
    },
    {
      "cell_type": "markdown",
      "metadata": {
        "id": "k04G5CarMQTn",
        "colab_type": "text"
      },
      "source": [
        "2. **Alpha in ridge regression is the regularization strength.**\n",
        "\n",
        "--> If value of alpha increases, the model complexity reduces and it will help in reducing overfitting.\n",
        "\n",
        "--> If values of alpha decreases, the model complexity increases and it will be difficult to handle overfitting."
      ]
    },
    {
      "cell_type": "markdown",
      "metadata": {
        "id": "dBGnHuMQN3oT",
        "colab_type": "text"
      },
      "source": [
        "3. **How we can detect underfitting and overfitting? Methods to overcome Underfitting and overfitting.**\n",
        "\n",
        "--> Model with high bias tends to underfit\n",
        "\n",
        "--> Model with high variance tends to overfit\n",
        "\n",
        "--> By increasing the dataset size to solve the problem of underfitting\n",
        "\n",
        "--> We can use regularization to solve the problem of overfitting.\n"
      ]
    },
    {
      "cell_type": "markdown",
      "metadata": {
        "id": "VmcyZUTNOte-",
        "colab_type": "text"
      },
      "source": [
        "4. **np.reshape(-1,1)**\n",
        "\n",
        "  We get a new shape to an array without changing its data. Here the tuple indicates (-1,1) that no. of rows is unknown but no. of columns is 1. Therefore, a shape of (12,) would be converted to (12,1) or a shape of (3,4) is converted to (12,1). While number of elements would remain constant."
      ]
    }
  ]
}